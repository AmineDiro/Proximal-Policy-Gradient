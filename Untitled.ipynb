{
 "cells": [
  {
   "cell_type": "code",
   "execution_count": 39,
   "id": "aaa2a2d9",
   "metadata": {},
   "outputs": [],
   "source": [
    "import numpy as np\n",
    "import scipy.signal\n",
    "from gym.spaces import Box, Discrete\n",
    "\n",
    "import torch\n",
    "import torch.nn as nn\n",
    "from torch.distributions.normal import Normal\n",
    "from torch.distributions.categorical import Categorical"
   ]
  },
  {
   "cell_type": "code",
   "execution_count": 52,
   "id": "da8eb22f",
   "metadata": {},
   "outputs": [
    {
     "name": "stderr",
     "output_type": "stream",
     "text": [
      "/home/amine/miniconda3/envs/ppo/lib/python3.8/site-packages/gym/logger.py:30: UserWarning: \u001b[33mWARN: Box bound precision lowered by casting to float32\u001b[0m\n",
      "  warnings.warn(colorize('%s: %s'%('WARN', msg % args), 'yellow'))\n"
     ]
    }
   ],
   "source": [
    "use_cuda = False\n",
    "\n",
    "# Get device to use GPU if available and use_cuda =True\n",
    "device = torch.device(\"cuda\" if (use_cuda and torch.cuda.is_available()) else \"cpu\")\n",
    "env = gym.make('CartPole-v0') "
   ]
  },
  {
   "cell_type": "code",
   "execution_count": 55,
   "id": "4d59ea96",
   "metadata": {},
   "outputs": [],
   "source": [
    "class Net(nn.Module):\n",
    "    def __init__(self, obs_dim,hidden_size,n_acts):\n",
    "        super(Net, self).__init__()\n",
    "        self.linear1 = nn.Linear(obs_dim,hidden_size)\n",
    "        self.linear2 = nn.Linear(hidden_size,n_acts)\n",
    "        \n",
    "    def forward(self,x):\n",
    "        x = self.linear1(x)\n",
    "        x = nn.Tanh()(x)\n",
    "        x= self.linear2(x)\n",
    "        return nn.Identity()(x)\n",
    "\n",
    "        \n",
    "class Actor(nn.Module):\n",
    "    def __init__(self,device, obs_dim, hidden_size,act_dim):\n",
    "        super().__init__()\n",
    "        self.logits_net = Net(obs_dim,hidden_size,act_dim).to(device)\n",
    "\n",
    "    def _policy(self, obs):\n",
    "        logits = self.logits_net(obs)\n",
    "        # Use categorical to get distribution over actions i.e Plicy\n",
    "        return Categorical(logits=logits)\n",
    "    \n",
    "    @staticmethod\n",
    "    def _log_prob_from_distribution(pi, act):\n",
    "        return pi.log_prob(act)\n",
    "    \n",
    "class Critic(nn.Module):\n",
    "    def __init__(self, device, obs_dim, hidden_size):\n",
    "        super().__init__()\n",
    "        self.v_net = Net(obs_dim,hidden_size,1).to(device)\n",
    "\n",
    "    def forward(self, obs):\n",
    "        return torch.squeeze(self.v_net(obs), -1) # Squeeze to one dimension to ensure v has right shape.\n",
    "\n",
    "\n",
    "class ActorCritic(nn.Module):\n",
    "    def __init__(self,device, env, hidden_size=32):\n",
    "        super().__init__()\n",
    "        obs_dim = env.observation_space.shape[0]\n",
    "        n_acts = env.action_space.n\n",
    "        \n",
    "        # build policy NN \n",
    "        self.pi = Actor(device, obs_dim, hidden_size,n_acts)\n",
    "\n",
    "        # value function NN \n",
    "        self.v  = Critic(device, obs_dim, hidden_size)\n",
    "\n",
    "    def step(self, obs):\n",
    "        with torch.no_grad():\n",
    "            # Get distrib over actions\n",
    "            pi = self.pi._policy(obs)\n",
    "            # Sample one action\n",
    "            a = pi.sample()\n",
    "            # get log proba over distrib\n",
    "            logp_a = self.pi._log_prob_from_distribution(pi, a)\n",
    "            # Get estimated value from Critic\n",
    "            v = self.v(obs)\n",
    "        return a.cpu().numpy(), v.cpu().numpy(), logp_a.cpu().numpy()\n",
    "\n",
    "    def act(self, obs):\n",
    "        return self.step(obs)[0]"
   ]
  },
  {
   "cell_type": "code",
   "execution_count": 58,
   "id": "97e2210c",
   "metadata": {},
   "outputs": [],
   "source": [
    "ac_kwargs=dict()\n",
    "seed=0, \n",
    "steps_per_epoch=4000\n",
    "epochs=50\n",
    "gamma=0.99\n",
    "clip_ratio=0.2\n",
    "pi_lr=3e-4\n",
    "vf_lr=1e-3\n",
    "train_pi_iters=80\n",
    "train_v_iters=80\n",
    "lam=0.97\n",
    "max_ep_len=1000\n",
    "target_kl=0.01\n",
    "logger_kwargs=dict()\n",
    "save_freq=10"
   ]
  }
 ],
 "metadata": {
  "kernelspec": {
   "display_name": "ppo",
   "language": "python",
   "name": "ppo"
  },
  "language_info": {
   "codemirror_mode": {
    "name": "ipython",
    "version": 3
   },
   "file_extension": ".py",
   "mimetype": "text/x-python",
   "name": "python",
   "nbconvert_exporter": "python",
   "pygments_lexer": "ipython3",
   "version": "3.8.8"
  }
 },
 "nbformat": 4,
 "nbformat_minor": 5
}
