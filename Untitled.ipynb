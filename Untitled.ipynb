{
 "cells": [
  {
   "cell_type": "code",
   "execution_count": 1,
   "id": "9ea9c413",
   "metadata": {},
   "outputs": [],
   "source": [
    "import os\n",
    "import glob\n",
    "import torch\n",
    "import time \n",
    "import numpy as np\n",
    "import gym\n",
    "from SimplePG.Actor import Actor"
   ]
  },
  {
   "cell_type": "code",
   "execution_count": 15,
   "id": "1c1bdd18",
   "metadata": {},
   "outputs": [],
   "source": [
    "name_env ='LunarLander-v2'\n",
    "## Load env\n",
    "env = gym.make(name_env)\n",
    "obs_dim = env.observation_space.shape[0]\n",
    "n_acts = env.action_space.n\n"
   ]
  },
  {
   "cell_type": "code",
   "execution_count": null,
   "id": "19060bcc",
   "metadata": {},
   "outputs": [],
   "source": [
    "while T"
   ]
  }
 ],
 "metadata": {
  "kernelspec": {
   "display_name": "ppo",
   "language": "python",
   "name": "ppo"
  },
  "language_info": {
   "codemirror_mode": {
    "name": "ipython",
    "version": 3
   },
   "file_extension": ".py",
   "mimetype": "text/x-python",
   "name": "python",
   "nbconvert_exporter": "python",
   "pygments_lexer": "ipython3",
   "version": "3.8.8"
  }
 },
 "nbformat": 4,
 "nbformat_minor": 5
}
